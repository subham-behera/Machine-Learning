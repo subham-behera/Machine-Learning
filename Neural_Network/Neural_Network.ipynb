{
 "cells": [
  {
   "cell_type": "code",
   "execution_count": 2,
   "metadata": {
    "id": "Nucb2wb9-7Dj"
   },
   "outputs": [],
   "source": [
    "from keras.models import Sequential\n",
    "from keras.layers import Dense"
   ]
  },
  {
   "cell_type": "code",
   "execution_count": 3,
   "metadata": {
    "id": "7i6b6WuT_b22"
   },
   "outputs": [],
   "source": [
    "import numpy as np\n",
    "import matplotlib.pyplot as plt"
   ]
  },
  {
   "cell_type": "code",
   "execution_count": 4,
   "metadata": {
    "id": "kutrqa2H_goU"
   },
   "outputs": [],
   "source": [
    "x=np.linspace(-5,5,100)\n",
    "noise=np.random.normal(0,2,100)\n",
    "y=4*x**2+3*x+noise"
   ]
  },
  {
   "cell_type": "code",
   "execution_count": 5,
   "metadata": {
    "colab": {
     "base_uri": "https://localhost:8080/",
     "height": 472
    },
    "id": "7mpAkyDr_tMe",
    "outputId": "79e8d1a0-2643-4e8c-ab12-8edf97cf0674"
   },
   "outputs": [
    {
     "data": {
      "image/png": "[encoded data removed]",
      "text/plain": [
       "<Figure size 640x480 with 1 Axes>"
      ]
     },
     "metadata": {},
     "output_type": "display_data"
    }
   ],
   "source": [
    "plt.plot(x,y,'+')\n",
    "plt.xlabel('x')\n",
    "plt.ylabel('y')\n",
    "plt.title(\"Data points\")\n",
    "plt.show()"
   ]
  },
  {
   "cell_type": "code",
   "execution_count": 16,
   "metadata": {
    "id": "WmonNLT9_8ra"
   },
   "outputs": [],
   "source": [
    "from sklearn.model_selection import train_test_split\n",
    "x_train,x_test,y_train,y_test=train_test_split(x,y,test_size=0.2)"
   ]
  },
  {
   "cell_type": "code",
   "execution_count": 17,
   "metadata": {
    "colab": {
     "base_uri": "https://localhost:8080/",
     "height": 0
    },
    "id": "L5ocUxODAePp",
    "outputId": "38a34b00-5a7d-4633-a38c-8b84e4d20e4e"
   },
   "outputs": [
    {
     "name": "stdout",
     "output_type": "stream",
     "text": [
      "(80,)\n",
      "(80,)\n"
     ]
    }
   ],
   "source": [
    "print(x_train.shape)\n",
    "print(y_train.shape)"
   ]
  },
  {
   "cell_type": "code",
   "execution_count": 18,
   "metadata": {
    "id": "DH7HX5AiAm_8"
   },
   "outputs": [],
   "source": [
    "x_train=x_train.reshape(-1,1)\n",
    "y_train=y_train.reshape(-1,1)"
   ]
  },
  {
   "cell_type": "code",
   "execution_count": 19,
   "metadata": {
    "colab": {
     "base_uri": "https://localhost:8080/",
     "height": 0
    },
    "id": "Jo0qStm_Awnw",
    "outputId": "3d6e73fc-cc42-45bd-a149-19cf65014df0"
   },
   "outputs": [
    {
     "name": "stdout",
     "output_type": "stream",
     "text": [
      "(80, 1)\n",
      "(80, 1)\n"
     ]
    }
   ],
   "source": [
    "print(x_train.shape)\n",
    "print(y_train.shape)"
   ]
  },
  {
   "cell_type": "code",
   "execution_count": 28,
   "metadata": {
    "id": "AvufpJEPAz-b"
   },
   "outputs": [],
   "source": [
    "model=Sequential()\n",
    "model.add(Dense(64,input_dim=1,activation='relu'))\n",
    "model.add(Dense(32,activation='relu'))\n",
    "model.add(Dense(16,activation='relu'))\n",
    "model.add(Dense(1))"
   ]
  },
  {
   "cell_type": "code",
   "execution_count": 29,
   "metadata": {
    "id": "_letCXdQBrP-"
   },
   "outputs": [],
   "source": [
    "model.compile(loss='mean_squared_error',optimizer='adam')"
   ]
  },
  {
   "cell_type": "code",
   "execution_count": 30,
   "metadata": {
    "colab": {
     "base_uri": "https://localhost:8080/",
     "height": 0
    },
    "id": "S2AS6UJxC_GT",
    "outputId": "ef501d08-49bd-4e95-d976-51ad4c503183"
   },
   "outputs": [
    {
     "name": "stdout",
     "output_type": "stream",
     "text": [
      "Model: \"sequential_3\"\n",
      "_________________________________________________________________\n",
      " Layer (type)                Output Shape              Param #   \n",
      "=================================================================\n",
      " dense_6 (Dense)             (None, 64)                128       \n",
      "                                                                 \n",
      " dense_7 (Dense)             (None, 32)                2080      \n",
      "                                                                 \n",
      " dense_8 (Dense)             (None, 16)                528       \n",
      "                                                                 \n",
      " dense_9 (Dense)             (None, 1)                 17        \n",
      "                                                                 \n",
      "=================================================================\n",
      "Total params: 2,753\n",
      "Trainable params: 2,753\n",
      "Non-trainable params: 0\n",
      "_________________________________________________________________\n"
     ]
    }
   ],
   "source": [
    "model.summary()"
   ]
  },
  {
   "cell_type": "code",
   "execution_count": 31,
   "metadata": {
    "colab": {
     "base_uri": "https://localhost:8080/",
     "height": 0
    },
    "id": "ga0bfAyzDOBq",
    "outputId": "bb014fe5-9e21-496d-9eb8-54f01d833054"
   },
   "outputs": [
    {
     "name": "stdout",
     "output_type": "stream",
     "text": [
      "Epoch 1/100\n",
      "3/3 [==============================] - 2s 7ms/step - loss: 1958.0348\n",
      "Epoch 2/100\n",
      "3/3 [==============================] - 0s 5ms/step - loss: 1930.5676\n",
      "Epoch 3/100\n",
      "3/3 [==============================] - 0s 5ms/step - loss: 1907.5549\n",
      "Epoch 4/100\n",
      "3/3 [==============================] - 0s 5ms/step - loss: 1883.2236\n",
      "Epoch 5/100\n",
      "3/3 [==============================] - 0s 5ms/step - loss: 1856.7240\n",
      "Epoch 6/100\n",
      "3/3 [==============================] - 0s 8ms/step - loss: 1831.3445\n",
      "Epoch 7/100\n",
      "3/3 [==============================] - 0s 5ms/step - loss: 1802.6719\n",
      "Epoch 8/100\n",
      "3/3 [==============================] - 0s 5ms/step - loss: 1773.7520\n",
      "Epoch 9/100\n",
      "3/3 [==============================] - 0s 5ms/step - loss: 1740.8737\n",
      "Epoch 10/100\n",
      "3/3 [==============================] - 0s 5ms/step - loss: 1708.8594\n",
      "Epoch 11/100\n",
      "3/3 [==============================] - 0s 5ms/step - loss: 1673.5326\n",
      "Epoch 12/100\n",
      "3/3 [==============================] - 0s 6ms/step - loss: 1635.6243\n",
      "Epoch 13/100\n",
      "3/3 [==============================] - 0s 5ms/step - loss: 1595.5222\n",
      "Epoch 14/100\n",
      "3/3 [==============================] - 0s 5ms/step - loss: 1551.1847\n",
      "Epoch 15/100\n",
      "3/3 [==============================] - 0s 5ms/step - loss: 1506.3326\n",
      "Epoch 16/100\n",
      "3/3 [==============================] - 0s 5ms/step - loss: 1465.7975\n",
      "Epoch 17/100\n",
      "3/3 [==============================] - 0s 5ms/step - loss: 1411.3428\n",
      "Epoch 18/100\n",
      "3/3 [==============================] - 0s 6ms/step - loss: 1365.8958\n",
      "Epoch 19/100\n",
      "3/3 [==============================] - 0s 5ms/step - loss: 1310.0677\n",
      "Epoch 20/100\n",
      "3/3 [==============================] - 0s 5ms/step - loss: 1255.6885\n",
      "Epoch 21/100\n",
      "3/3 [==============================] - 0s 6ms/step - loss: 1200.9799\n",
      "Epoch 22/100\n",
      "3/3 [==============================] - 0s 5ms/step - loss: 1143.6389\n",
      "Epoch 23/100\n",
      "3/3 [==============================] - 0s 5ms/step - loss: 1080.7456\n",
      "Epoch 24/100\n",
      "3/3 [==============================] - 0s 5ms/step - loss: 1020.6273\n",
      "Epoch 25/100\n",
      "3/3 [==============================] - 0s 5ms/step - loss: 963.6222\n",
      "Epoch 26/100\n",
      "3/3 [==============================] - 0s 5ms/step - loss: 896.0348\n",
      "Epoch 27/100\n",
      "3/3 [==============================] - 0s 5ms/step - loss: 836.2015\n",
      "Epoch 28/100\n",
      "3/3 [==============================] - 0s 5ms/step - loss: 778.7203\n",
      "Epoch 29/100\n",
      "3/3 [==============================] - 0s 5ms/step - loss: 711.3333\n",
      "Epoch 30/100\n",
      "3/3 [==============================] - 0s 5ms/step - loss: 658.5997\n",
      "Epoch 31/100\n",
      "3/3 [==============================] - 0s 5ms/step - loss: 603.3726\n",
      "Epoch 32/100\n",
      "3/3 [==============================] - 0s 5ms/step - loss: 550.3854\n",
      "Epoch 33/100\n",
      "3/3 [==============================] - 0s 9ms/step - loss: 507.6230\n",
      "Epoch 34/100\n",
      "3/3 [==============================] - 0s 5ms/step - loss: 455.7711\n",
      "Epoch 35/100\n",
      "3/3 [==============================] - 0s 5ms/step - loss: 421.1504\n",
      "Epoch 36/100\n",
      "3/3 [==============================] - 0s 5ms/step - loss: 378.9842\n",
      "Epoch 37/100\n",
      "3/3 [==============================] - 0s 5ms/step - loss: 352.4520\n",
      "Epoch 38/100\n",
      "3/3 [==============================] - 0s 5ms/step - loss: 321.5005\n",
      "Epoch 39/100\n",
      "3/3 [==============================] - 0s 5ms/step - loss: 294.6416\n",
      "Epoch 40/100\n",
      "3/3 [==============================] - 0s 6ms/step - loss: 269.2259\n",
      "Epoch 41/100\n",
      "3/3 [==============================] - 0s 5ms/step - loss: 248.3117\n",
      "Epoch 42/100\n",
      "3/3 [==============================] - 0s 5ms/step - loss: 233.8382\n",
      "Epoch 43/100\n",
      "3/3 [==============================] - 0s 5ms/step - loss: 217.6172\n",
      "Epoch 44/100\n",
      "3/3 [==============================] - 0s 5ms/step - loss: 208.0802\n",
      "Epoch 45/100\n",
      "3/3 [==============================] - 0s 5ms/step - loss: 197.3301\n",
      "Epoch 46/100\n",
      "3/3 [==============================] - 0s 5ms/step - loss: 190.9811\n",
      "Epoch 47/100\n",
      "3/3 [==============================] - 0s 5ms/step - loss: 185.8430\n",
      "Epoch 48/100\n",
      "3/3 [==============================] - 0s 5ms/step - loss: 183.0218\n",
      "Epoch 49/100\n",
      "3/3 [==============================] - 0s 5ms/step - loss: 181.0576\n",
      "Epoch 50/100\n",
      "3/3 [==============================] - 0s 5ms/step - loss: 179.5938\n",
      "Epoch 51/100\n",
      "3/3 [==============================] - 0s 5ms/step - loss: 177.6629\n",
      "Epoch 52/100\n",
      "3/3 [==============================] - 0s 5ms/step - loss: 176.3089\n",
      "Epoch 53/100\n",
      "3/3 [==============================] - 0s 5ms/step - loss: 175.1435\n",
      "Epoch 54/100\n",
      "3/3 [==============================] - 0s 5ms/step - loss: 173.7910\n",
      "Epoch 55/100\n",
      "3/3 [==============================] - 0s 5ms/step - loss: 172.5191\n",
      "Epoch 56/100\n",
      "3/3 [==============================] - 0s 8ms/step - loss: 171.4073\n",
      "Epoch 57/100\n",
      "3/3 [==============================] - 0s 5ms/step - loss: 169.8632\n",
      "Epoch 58/100\n",
      "3/3 [==============================] - 0s 5ms/step - loss: 168.4432\n",
      "Epoch 59/100\n",
      "3/3 [==============================] - 0s 5ms/step - loss: 167.0127\n",
      "Epoch 60/100\n",
      "3/3 [==============================] - 0s 5ms/step - loss: 165.5426\n",
      "Epoch 61/100\n",
      "3/3 [==============================] - 0s 5ms/step - loss: 164.2617\n",
      "Epoch 62/100\n",
      "3/3 [==============================] - 0s 9ms/step - loss: 163.0670\n",
      "Epoch 63/100\n",
      "3/3 [==============================] - 0s 5ms/step - loss: 161.6704\n",
      "Epoch 64/100\n",
      "3/3 [==============================] - 0s 5ms/step - loss: 160.2630\n",
      "Epoch 65/100\n",
      "3/3 [==============================] - 0s 5ms/step - loss: 158.9974\n",
      "Epoch 66/100\n",
      "3/3 [==============================] - 0s 5ms/step - loss: 157.6309\n",
      "Epoch 67/100\n",
      "3/3 [==============================] - 0s 5ms/step - loss: 156.3657\n",
      "Epoch 68/100\n",
      "3/3 [==============================] - 0s 5ms/step - loss: 155.1551\n",
      "Epoch 69/100\n",
      "3/3 [==============================] - 0s 5ms/step - loss: 153.8727\n",
      "Epoch 70/100\n",
      "3/3 [==============================] - 0s 5ms/step - loss: 152.7959\n",
      "Epoch 71/100\n",
      "3/3 [==============================] - 0s 6ms/step - loss: 151.5368\n",
      "Epoch 72/100\n",
      "3/3 [==============================] - 0s 5ms/step - loss: 150.2907\n",
      "Epoch 73/100\n",
      "3/3 [==============================] - 0s 7ms/step - loss: 148.9676\n",
      "Epoch 74/100\n",
      "3/3 [==============================] - 0s 5ms/step - loss: 147.4050\n",
      "Epoch 75/100\n",
      "3/3 [==============================] - 0s 5ms/step - loss: 146.1588\n",
      "Epoch 76/100\n",
      "3/3 [==============================] - 0s 5ms/step - loss: 145.0836\n",
      "Epoch 77/100\n",
      "3/3 [==============================] - 0s 5ms/step - loss: 143.8994\n",
      "Epoch 78/100\n",
      "3/3 [==============================] - 0s 5ms/step - loss: 142.5615\n",
      "Epoch 79/100\n",
      "3/3 [==============================] - 0s 5ms/step - loss: 141.2777\n",
      "Epoch 80/100\n",
      "3/3 [==============================] - 0s 5ms/step - loss: 140.2106\n",
      "Epoch 81/100\n",
      "3/3 [==============================] - 0s 5ms/step - loss: 138.8625\n",
      "Epoch 82/100\n",
      "3/3 [==============================] - 0s 5ms/step - loss: 137.5737\n",
      "Epoch 83/100\n",
      "3/3 [==============================] - 0s 5ms/step - loss: 136.3388\n",
      "Epoch 84/100\n",
      "3/3 [==============================] - 0s 7ms/step - loss: 135.1884\n",
      "Epoch 85/100\n",
      "3/3 [==============================] - 0s 5ms/step - loss: 133.9343\n",
      "Epoch 86/100\n",
      "3/3 [==============================] - 0s 6ms/step - loss: 132.7286\n",
      "Epoch 87/100\n",
      "3/3 [==============================] - 0s 6ms/step - loss: 131.5803\n",
      "Epoch 88/100\n",
      "3/3 [==============================] - 0s 7ms/step - loss: 130.3826\n",
      "Epoch 89/100\n",
      "3/3 [==============================] - 0s 6ms/step - loss: 129.3752\n",
      "Epoch 90/100\n",
      "3/3 [==============================] - 0s 9ms/step - loss: 128.0636\n",
      "Epoch 91/100\n",
      "3/3 [==============================] - 0s 8ms/step - loss: 126.8545\n",
      "Epoch 92/100\n",
      "3/3 [==============================] - 0s 6ms/step - loss: 125.5706\n",
      "Epoch 93/100\n",
      "3/3 [==============================] - 0s 7ms/step - loss: 124.4200\n",
      "Epoch 94/100\n",
      "3/3 [==============================] - 0s 8ms/step - loss: 123.2832\n",
      "Epoch 95/100\n",
      "3/3 [==============================] - 0s 7ms/step - loss: 121.9426\n",
      "Epoch 96/100\n",
      "3/3 [==============================] - 0s 7ms/step - loss: 120.8497\n",
      "Epoch 97/100\n",
      "3/3 [==============================] - 0s 7ms/step - loss: 119.7938\n",
      "Epoch 98/100\n",
      "3/3 [==============================] - 0s 7ms/step - loss: 118.5594\n",
      "Epoch 99/100\n",
      "3/3 [==============================] - 0s 6ms/step - loss: 117.4918\n",
      "Epoch 100/100\n",
      "3/3 [==============================] - 0s 6ms/step - loss: 116.3282\n"
     ]
    },
    {
     "data": {
      "text/plain": [
       "<keras.callbacks.History at 0x7bab0c5a9f60>"
      ]
     },
     "execution_count": 31,
     "metadata": {},
     "output_type": "execute_result"
    }
   ],
   "source": [
    "model.fit(x_train,y_train,epochs=100)"
   ]
  },
  {
   "cell_type": "code",
   "execution_count": 32,
   "metadata": {
    "colab": {
     "base_uri": "https://localhost:8080/",
     "height": 0
    },
    "id": "RvGVofL1FF-b",
    "outputId": "26750bda-ecf5-48e7-9037-06d05e2578ad"
   },
   "outputs": [
    {
     "name": "stdout",
     "output_type": "stream",
     "text": [
      "1/1 [==============================] - 0s 53ms/step\n"
     ]
    }
   ],
   "source": [
    "y_pred_nn=model.predict(x_test)"
   ]
  },
  {
   "cell_type": "code",
   "execution_count": 33,
   "metadata": {
    "colab": {
     "base_uri": "https://localhost:8080/",
     "height": 472
    },
    "id": "2O_pk7TKF3Nq",
    "outputId": "9fe42524-bfb9-4956-e46d-de4c80d93b20"
   },
   "outputs": [
    {
     "data": {
      "image/png": "[encoded data removed]",
      "text/plain": [
       "<Figure size 640x480 with 1 Axes>"
      ]
     },
     "metadata": {},
     "output_type": "display_data"
    }
   ],
   "source": [
    "# Plot the predictions\n",
    "plt.scatter(x_test, y_test, label='Actual')\n",
    "plt.scatter(x_test, y_pred_nn, label='Neural Network')\n",
    "plt.xlabel('X')\n",
    "plt.ylabel('y')\n",
    "plt.title('Predictions')\n",
    "plt.legend()\n",
    "plt.show()"
   ]
  },
  {
   "cell_type": "code",
   "execution_count": 34,
   "metadata": {
    "colab": {
     "base_uri": "https://localhost:8080/",
     "height": 0
    },
    "id": "p2KkGhZeGKd_",
    "outputId": "16f6d457-e287-4fb6-fed4-cd2ddc3b19c7"
   },
   "outputs": [
    {
     "name": "stdout",
     "output_type": "stream",
     "text": [
      "0.8228554581372757\n",
      "Neural Network r^2 score: 0.8228554581372757\n"
     ]
    }
   ],
   "source": [
    "from sklearn.metrics import r2_score\n",
    "r2=r2_score(y_test,y_pred_nn)\n",
    "print(r2)\n",
    "print(\"Neural Network r^2 score:\",r2)"
   ]
  }
 ],
 "metadata": {
  "accelerator": "GPU",
  "colab": {
   "gpuType": "T4",
   "provenance": []
  },
  "kernelspec": {
   "display_name": "Python 3 (ipykernel)",
   "language": "python",
   "name": "python3"
  },
  "language_info": {
   "codemirror_mode": {
    "name": "ipython",
    "version": 3
   },
   "file_extension": ".py",
   "mimetype": "text/x-python",
   "name": "python",
   "nbconvert_exporter": "python",
   "pygments_lexer": "ipython3",
   "version": "3.11.4"
  }
 },
 "nbformat": 4,
 "nbformat_minor": 1
}
